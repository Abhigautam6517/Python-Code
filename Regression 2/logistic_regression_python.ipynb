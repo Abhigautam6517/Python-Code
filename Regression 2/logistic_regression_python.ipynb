{
 "cells": [
  {
   "cell_type": "code",
   "execution_count": 1,
   "metadata": {},
   "outputs": [],
   "source": [
    "# y = 1/1+e^-y_mid\n",
    "# y_mid = mx + c\n",
    "# y_mid = m1x1 + m2x2 + m3x3 .......... + c"
   ]
  },
  {
   "cell_type": "code",
   "execution_count": 17,
   "metadata": {},
   "outputs": [],
   "source": [
    "import numpy as np\n",
    "import math"
   ]
  },
  {
   "cell_type": "code",
   "execution_count": 3,
   "metadata": {},
   "outputs": [],
   "source": [
    "x = np.random.random((100, 2))"
   ]
  },
  {
   "cell_type": "code",
   "execution_count": 5,
   "metadata": {},
   "outputs": [
    {
     "data": {
      "text/plain": [
       "array([[0.18092021, 0.49035777],\n",
       "       [0.88923783, 0.80115911],\n",
       "       [0.22438135, 0.66254678],\n",
       "       [0.82917929, 0.77151941],\n",
       "       [0.33725878, 0.61519284]])"
      ]
     },
     "execution_count": 5,
     "metadata": {},
     "output_type": "execute_result"
    }
   ],
   "source": [
    "x[:5]"
   ]
  },
  {
   "cell_type": "code",
   "execution_count": 12,
   "metadata": {},
   "outputs": [],
   "source": [
    "y = np.zeros(100)"
   ]
  },
  {
   "cell_type": "code",
   "execution_count": 16,
   "metadata": {},
   "outputs": [],
   "source": [
    "# m1, m2, c\n",
    "coef = np.random.random(3)"
   ]
  },
  {
   "cell_type": "code",
   "execution_count": 15,
   "metadata": {},
   "outputs": [
    {
     "data": {
      "text/plain": [
       "array([0.56333584, 0.9783655 , 0.3650469 ])"
      ]
     },
     "execution_count": 15,
     "metadata": {},
     "output_type": "execute_result"
    }
   ],
   "source": [
    "coef"
   ]
  },
  {
   "cell_type": "code",
   "execution_count": 28,
   "metadata": {},
   "outputs": [],
   "source": [
    "# y_mid = c \n",
    "def logistic(coef, row):\n",
    "    pred = coef[-1] # y =  c\n",
    "    print(row)\n",
    "    for i in range(len(coef)-1):\n",
    "        pred+= coef[i] * row[i] # y = c + m1x1 + m2x2+ .........\n",
    "    return 1/(1+math.exp(-pred))"
   ]
  },
  {
   "cell_type": "code",
   "execution_count": 31,
   "metadata": {},
   "outputs": [
    {
     "name": "stdout",
     "output_type": "stream",
     "text": [
      "[0.18092021 0.49035777]\n",
      "Actual 0.0, y_mid 0.561069592380164\n",
      "[0.88923783 0.80115911]\n",
      "Actual 0.0, y_mid 0.6135409004363814\n",
      "[0.22438135 0.66254678]\n",
      "Actual 0.0, y_mid 0.5661979857787434\n",
      "[0.82917929 0.77151941]\n",
      "Actual 0.0, y_mid 0.609136319675605\n",
      "[0.33725878 0.61519284]\n",
      "Actual 0.0, y_mid 0.5734917399482503\n",
      "[0.37450384 0.61094796]\n",
      "Actual 0.0, y_mid 0.5760286715430248\n",
      "[0.65518266 0.41685055]\n",
      "Actual 0.0, y_mid 0.5930808523575316\n",
      "[0.04171569 0.54377277]\n",
      "Actual 0.0, y_mid 0.5519522559924661\n",
      "[0.93070095 0.50960147]\n",
      "Actual 0.0, y_mid 0.6129252908569872\n",
      "[0.85301849 0.81610482]\n",
      "Actual 0.0, y_mid 0.6112716369380413\n"
     ]
    }
   ],
   "source": [
    "for i in range(10):\n",
    "#     print(\"data point\", x[i])\n",
    "    print(f\"Actual {y[i]}, y_mid {logistic(coef, x[i])}\")\n",
    "# P(Mouse is obese or not) = prediction"
   ]
  },
  {
   "cell_type": "code",
   "execution_count": null,
   "metadata": {},
   "outputs": [],
   "source": []
  }
 ],
 "metadata": {
  "kernelspec": {
   "display_name": "Python 3",
   "language": "python",
   "name": "python3"
  },
  "language_info": {
   "codemirror_mode": {
    "name": "ipython",
    "version": 3
   },
   "file_extension": ".py",
   "mimetype": "text/x-python",
   "name": "python",
   "nbconvert_exporter": "python",
   "pygments_lexer": "ipython3",
   "version": "3.7.9"
  }
 },
 "nbformat": 4,
 "nbformat_minor": 4
}
